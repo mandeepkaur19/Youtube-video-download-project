{
 "cells": [
  {
   "cell_type": "code",
   "execution_count": 7,
   "id": "3ea1d773-3361-4664-9016-548cbf40c1ef",
   "metadata": {},
   "outputs": [
    {
     "name": "stdin",
     "output_type": "stream",
     "text": [
      "Enter number:  32\n"
     ]
    },
    {
     "name": "stdout",
     "output_type": "stream",
     "text": [
      "Even number\n"
     ]
    }
   ],
   "source": [
    "x = int(input('Enter number: '))\n",
    "if 0 == x % 2:\n",
    "    print('Even number')\n",
    "else:\n",
    "    print('Odd number')"
   ]
  },
  {
   "cell_type": "code",
   "execution_count": 9,
   "id": "e47517d0-a0d3-4a2a-90d1-60f12c7cc560",
   "metadata": {},
   "outputs": [
    {
     "name": "stdout",
     "output_type": "stream",
     "text": [
      "Collecting pytube3\n",
      "  Downloading pytube3-9.6.4-py3-none-any.whl.metadata (16 kB)\n",
      "Requirement already satisfied: typing-extensions in d:\\anaconda3\\lib\\site-packages (from pytube3) (4.11.0)\n",
      "Downloading pytube3-9.6.4-py3-none-any.whl (38 kB)\n",
      "Installing collected packages: pytube3\n",
      "Successfully installed pytube3-9.6.4\n",
      "Note: you may need to restart the kernel to use updated packages.\n"
     ]
    }
   ],
   "source": [
    "pip install pytube3"
   ]
  },
  {
   "cell_type": "code",
   "execution_count": 11,
   "id": "5d0ed02e-4654-4c72-92a4-8417615a91e3",
   "metadata": {},
   "outputs": [
    {
     "name": "stdout",
     "output_type": "stream",
     "text": [
      "Collecting pytubeNote: you may need to restart the kernel to use updated packages.\n",
      "\n",
      "  Downloading pytube-15.0.0-py3-none-any.whl.metadata (5.0 kB)\n",
      "Downloading pytube-15.0.0-py3-none-any.whl (57 kB)\n",
      "   ---------------------------------------- 0.0/57.6 kB ? eta -:--:--\n",
      "   -------------- ------------------------- 20.5/57.6 kB 330.3 kB/s eta 0:00:01\n",
      "   ----------------------------------- ---- 51.2/57.6 kB 660.6 kB/s eta 0:00:01\n",
      "   ---------------------------------------- 57.6/57.6 kB 503.8 kB/s eta 0:00:00\n",
      "Installing collected packages: pytube\n",
      "Successfully installed pytube-15.0.0\n"
     ]
    }
   ],
   "source": [
    "pip install --upgrade pytube"
   ]
  },
  {
   "cell_type": "code",
   "execution_count": 13,
   "id": "cc3d2604-bee1-4841-98e5-6aec5a92ed8f",
   "metadata": {},
   "outputs": [],
   "source": [
    "from pytube import YouTube"
   ]
  },
  {
   "cell_type": "code",
   "execution_count": 15,
   "id": "d4a055be-743e-4f07-84ac-3dc2e6665d20",
   "metadata": {},
   "outputs": [
    {
     "name": "stdout",
     "output_type": "stream",
     "text": [
      "Collecting yt-dlp\n",
      "  Downloading yt_dlp-2024.8.6-py3-none-any.whl.metadata (170 kB)\n",
      "     ---------------------------------------- 0.0/170.1 kB ? eta -:--:--\n",
      "     -- ------------------------------------- 10.2/170.1 kB ? eta -:--:--\n",
      "     ------------- ----------------------- 61.4/170.1 kB 656.4 kB/s eta 0:00:01\n",
      "     ------------------------------------ - 163.8/170.1 kB 1.7 MB/s eta 0:00:01\n",
      "     -------------------------------------- 170.1/170.1 kB 1.1 MB/s eta 0:00:00\n",
      "Requirement already satisfied: brotli in d:\\anaconda3\\lib\\site-packages (from yt-dlp) (1.0.9)\n",
      "Requirement already satisfied: certifi in d:\\anaconda3\\lib\\site-packages (from yt-dlp) (2024.7.4)\n",
      "Collecting mutagen (from yt-dlp)\n",
      "  Downloading mutagen-1.47.0-py3-none-any.whl.metadata (1.7 kB)\n",
      "Collecting pycryptodomex (from yt-dlp)\n",
      "  Downloading pycryptodomex-3.20.0-cp35-abi3-win_amd64.whl.metadata (3.4 kB)\n",
      "Requirement already satisfied: requests<3,>=2.32.2 in d:\\anaconda3\\lib\\site-packages (from yt-dlp) (2.32.2)\n",
      "Requirement already satisfied: urllib3<3,>=1.26.17 in d:\\anaconda3\\lib\\site-packages (from yt-dlp) (2.2.2)\n",
      "Collecting websockets>=12.0 (from yt-dlp)\n",
      "  Downloading websockets-13.0.1-cp312-cp312-win_amd64.whl.metadata (6.9 kB)\n",
      "Requirement already satisfied: charset-normalizer<4,>=2 in d:\\anaconda3\\lib\\site-packages (from requests<3,>=2.32.2->yt-dlp) (2.0.4)\n",
      "Requirement already satisfied: idna<4,>=2.5 in d:\\anaconda3\\lib\\site-packages (from requests<3,>=2.32.2->yt-dlp) (3.7)\n",
      "Downloading yt_dlp-2024.8.6-py3-none-any.whl (3.1 MB)\n",
      "   ---------------------------------------- 0.0/3.1 MB ? eta -:--:--\n",
      "   ----- ---------------------------------- 0.4/3.1 MB 12.2 MB/s eta 0:00:01\n",
      "   ------------------ --------------------- 1.5/3.1 MB 18.9 MB/s eta 0:00:01\n",
      "   --------------------- ------------------ 1.7/3.1 MB 17.9 MB/s eta 0:00:01\n",
      "   -------------------------- ------------- 2.1/3.1 MB 12.0 MB/s eta 0:00:01\n",
      "   ------------------------------- -------- 2.5/3.1 MB 11.2 MB/s eta 0:00:01\n",
      "   ---------------------------------- ----- 2.7/3.1 MB 10.2 MB/s eta 0:00:01\n",
      "   -------------------------------------- - 3.0/3.1 MB 9.5 MB/s eta 0:00:01\n",
      "   ---------------------------------------  3.1/3.1 MB 8.6 MB/s eta 0:00:01\n",
      "   ---------------------------------------- 3.1/3.1 MB 7.7 MB/s eta 0:00:00\n",
      "Downloading websockets-13.0.1-cp312-cp312-win_amd64.whl (152 kB)\n",
      "   ---------------------------------------- 0.0/152.2 kB ? eta -:--:--\n",
      "   ---------------------------------------- 152.2/152.2 kB 4.6 MB/s eta 0:00:00\n",
      "Downloading mutagen-1.47.0-py3-none-any.whl (194 kB)\n",
      "   ---------------------------------------- 0.0/194.4 kB ? eta -:--:--\n",
      "   --------------------------------------- 194.4/194.4 kB 11.5 MB/s eta 0:00:00\n",
      "Downloading pycryptodomex-3.20.0-cp35-abi3-win_amd64.whl (1.8 MB)\n",
      "   ---------------------------------------- 0.0/1.8 MB ? eta -:--:--\n",
      "   ---------- ----------------------------- 0.5/1.8 MB 14.9 MB/s eta 0:00:01\n",
      "   ---------------------------- ----------- 1.3/1.8 MB 16.1 MB/s eta 0:00:01\n",
      "   ----------------------------- ---------- 1.3/1.8 MB 13.6 MB/s eta 0:00:01\n",
      "   ------------------------------------ --- 1.6/1.8 MB 10.3 MB/s eta 0:00:01\n",
      "   ---------------------------------------- 1.8/1.8 MB 8.6 MB/s eta 0:00:00\n",
      "Installing collected packages: websockets, pycryptodomex, mutagen, yt-dlp\n",
      "Successfully installed mutagen-1.47.0 pycryptodomex-3.20.0 websockets-13.0.1 yt-dlp-2024.8.6\n",
      "Note: you may need to restart the kernel to use updated packages.\n"
     ]
    }
   ],
   "source": [
    "pip install yt-dlp"
   ]
  },
  {
   "cell_type": "code",
   "execution_count": 17,
   "id": "b0e9deac-a282-4139-90fd-7195ddc4eac9",
   "metadata": {},
   "outputs": [
    {
     "name": "stdin",
     "output_type": "stream",
     "text": [
      "Enter YouTube Video Link https://www.youtube.com/watch?v=__aIu_3hPiQ\n"
     ]
    }
   ],
   "source": [
    "link = input(\"Enter YouTube Video Link\")\n",
    "yt = YouTube(link)"
   ]
  },
  {
   "cell_type": "code",
   "execution_count": 23,
   "id": "7386d176-310b-4763-ac6d-84512c2966ee",
   "metadata": {},
   "outputs": [
    {
     "name": "stdout",
     "output_type": "stream",
     "text": [
      "Title: Geeta Maa Aur Farah Khan Ka Mazedaar Banter Aur Prawns Curry! | @FarahKhanK\n",
      "Views: 1364382\n",
      "Duration: 666\n",
      "Description: None\n",
      "Ratings: None\n"
     ]
    }
   ],
   "source": [
    "#To print title\n",
    "print(\"Title:\", yt.title)\n",
    "#To get number of views\n",
    "print(\"Views:\",yt.views)\n",
    "#To get the length of video\n",
    "print(\"Duration:\",yt.length)\n",
    "#To get the Description of video\n",
    "print(\"Description:\",yt.description)\n",
    "#To get the Ratings of video\n",
    "print(\"Ratings:\",yt.rating)"
   ]
  },
  {
   "cell_type": "code",
   "execution_count": 26,
   "id": "7b9b2662-0ed7-47e9-8e97-b70b15472f3c",
   "metadata": {},
   "outputs": [],
   "source": [
    "from yt_dlp import YoutubeDL\n",
    "\n",
    "download_option = input(\"Do you want to download this video? (yes/no): \").lower()\n",
    "\n",
    "if download_option == \"yes\":\n",
    "    url = link\n",
    "    ydl_opts = {'format':'best'}\n",
    "    with YoutubeDL(ydl_opts) as ydl\n",
    "    print(\"Downloading....\")\n",
    "    ydl.download([url])\n",
    "    print(\"Download Comp\")"
   ]
  },
  {
   "cell_type": "code",
   "execution_count": 28,
   "id": "be72c4df-9ccb-49fb-8299-2d4255013ce7",
   "metadata": {},
   "outputs": [
    {
     "data": {
      "text/plain": [
       "'C:\\\\Users\\\\HP\\\\NIT NOTES\\\\Class_Work'"
      ]
     },
     "execution_count": 28,
     "metadata": {},
     "output_type": "execute_result"
    }
   ],
   "source": [
    "import os\n",
    "os.getcwd()"
   ]
  }
 ],
 "metadata": {
  "kernelspec": {
   "display_name": "Python 3 (ipykernel)",
   "language": "python",
   "name": "python3"
  },
  "language_info": {
   "codemirror_mode": {
    "name": "ipython",
    "version": 3
   },
   "file_extension": ".py",
   "mimetype": "text/x-python",
   "name": "python",
   "nbconvert_exporter": "python",
   "pygments_lexer": "ipython3",
   "version": "3.12.4"
  }
 },
 "nbformat": 4,
 "nbformat_minor": 5
}
